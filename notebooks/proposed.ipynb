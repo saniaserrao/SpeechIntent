{
 "cells": [
  {
   "cell_type": "code",
   "execution_count": 57,
   "id": "bb9b248e",
   "metadata": {},
   "outputs": [],
   "source": [
    "import torch\n",
    "import librosa\n",
    "import librosa.display\n",
    "import torchaudio\n",
    "\n",
    "import os\n",
    "import glob\n",
    "\n",
    "import pandas as pd\n",
    "import numpy as np\n",
    "\n",
    "import matplotlib.pyplot as plt\n",
    "import seaborn as sns\n",
    "\n",
    "from sklearn.model_selection import train_test_split\n",
    "from transformers import BertTokenizer\n",
    "from torch.utils.data import Dataset, DataLoader\n",
    "import torch.nn as nn\n",
    "import torch.nn.functional as F\n",
    "import torch.optim as optim\n",
    "from sklearn.metrics import confusion_matrix, classification_report\n",
    "from tqdm import tqdm\n"
   ]
  },
  {
   "cell_type": "code",
   "execution_count": 58,
   "id": "d5662994",
   "metadata": {},
   "outputs": [
    {
     "data": {
      "text/html": [
       "<div>\n",
       "<style scoped>\n",
       "    .dataframe tbody tr th:only-of-type {\n",
       "        vertical-align: middle;\n",
       "    }\n",
       "\n",
       "    .dataframe tbody tr th {\n",
       "        vertical-align: top;\n",
       "    }\n",
       "\n",
       "    .dataframe thead th {\n",
       "        text-align: right;\n",
       "    }\n",
       "</style>\n",
       "<table border=\"1\" class=\"dataframe\">\n",
       "  <thead>\n",
       "    <tr style=\"text-align: right;\">\n",
       "      <th></th>\n",
       "      <th>text_asr</th>\n",
       "      <th>text_translated</th>\n",
       "      <th>intent</th>\n",
       "      <th>language</th>\n",
       "      <th>full_audio_path</th>\n",
       "    </tr>\n",
       "  </thead>\n",
       "  <tbody>\n",
       "    <tr>\n",
       "      <th>0</th>\n",
       "      <td>I would like to pay my electricity bill using ...</td>\n",
       "      <td>I would like to pay my electricity bill using ...</td>\n",
       "      <td>PAY_BILL</td>\n",
       "      <td>en-AU</td>\n",
       "      <td>MInDS-14\\audio\\en-AU~PAY_BILL/response_4.wav</td>\n",
       "    </tr>\n",
       "    <tr>\n",
       "      <th>1</th>\n",
       "      <td>hello I like to pay for Bill I would actually ...</td>\n",
       "      <td>hello I like to pay for Bill I would actually ...</td>\n",
       "      <td>PAY_BILL</td>\n",
       "      <td>en-AU</td>\n",
       "      <td>MInDS-14\\audio\\en-AU~PAY_BILL/response_17.wav</td>\n",
       "    </tr>\n",
       "    <tr>\n",
       "      <th>2</th>\n",
       "      <td>pay a bill</td>\n",
       "      <td>pay a bill</td>\n",
       "      <td>PAY_BILL</td>\n",
       "      <td>en-AU</td>\n",
       "      <td>MInDS-14\\audio\\en-AU~PAY_BILL/response_16.wav</td>\n",
       "    </tr>\n",
       "    <tr>\n",
       "      <th>3</th>\n",
       "      <td>my credit card payment is due</td>\n",
       "      <td>my credit card payment is due</td>\n",
       "      <td>PAY_BILL</td>\n",
       "      <td>en-AU</td>\n",
       "      <td>MInDS-14\\audio\\en-AU~PAY_BILL/response_7.wav</td>\n",
       "    </tr>\n",
       "    <tr>\n",
       "      <th>4</th>\n",
       "      <td>hi I would like to make a new payment for a bill</td>\n",
       "      <td>hi I would like to make a new payment for a bill</td>\n",
       "      <td>PAY_BILL</td>\n",
       "      <td>en-AU</td>\n",
       "      <td>MInDS-14\\audio\\en-AU~PAY_BILL/response_14.wav</td>\n",
       "    </tr>\n",
       "  </tbody>\n",
       "</table>\n",
       "</div>"
      ],
      "text/plain": [
       "                                            text_asr  \\\n",
       "0  I would like to pay my electricity bill using ...   \n",
       "1  hello I like to pay for Bill I would actually ...   \n",
       "2                                         pay a bill   \n",
       "3                      my credit card payment is due   \n",
       "4   hi I would like to make a new payment for a bill   \n",
       "\n",
       "                                     text_translated    intent language  \\\n",
       "0  I would like to pay my electricity bill using ...  PAY_BILL    en-AU   \n",
       "1  hello I like to pay for Bill I would actually ...  PAY_BILL    en-AU   \n",
       "2                                         pay a bill  PAY_BILL    en-AU   \n",
       "3                      my credit card payment is due  PAY_BILL    en-AU   \n",
       "4   hi I would like to make a new payment for a bill  PAY_BILL    en-AU   \n",
       "\n",
       "                                 full_audio_path  \n",
       "0   MInDS-14\\audio\\en-AU~PAY_BILL/response_4.wav  \n",
       "1  MInDS-14\\audio\\en-AU~PAY_BILL/response_17.wav  \n",
       "2  MInDS-14\\audio\\en-AU~PAY_BILL/response_16.wav  \n",
       "3   MInDS-14\\audio\\en-AU~PAY_BILL/response_7.wav  \n",
       "4  MInDS-14\\audio\\en-AU~PAY_BILL/response_14.wav  "
      ]
     },
     "execution_count": 58,
     "metadata": {},
     "output_type": "execute_result"
    }
   ],
   "source": [
    "eng_data=pd.read_csv('C:/Users/Sania Serrao/projects/SpeechIntent/data/eng_data.csv')\n",
    "eng_data.drop(columns=['filepath'], inplace=True)\n",
    "eng_data.head()"
   ]
  },
  {
   "cell_type": "code",
   "execution_count": 59,
   "id": "bde49987",
   "metadata": {},
   "outputs": [],
   "source": [
    "tokenizer = BertTokenizer.from_pretrained('bert-base-uncased')"
   ]
  },
  {
   "cell_type": "code",
   "execution_count": 60,
   "id": "c826e727",
   "metadata": {},
   "outputs": [
    {
     "name": "stdout",
     "output_type": "stream",
     "text": [
      "Audio files exist: 1809 / 1809\n"
     ]
    }
   ],
   "source": [
    "eng_data['audio_exists'] = eng_data['full_audio_path'].apply(os.path.exists)\n",
    "print(f\"Audio files exist: {eng_data['audio_exists'].sum()} / {len(eng_data)}\")\n",
    "\n",
    "# Keep only rows where audio exists\n",
    "eng_data = eng_data[eng_data['audio_exists']]\n",
    "eng_data = eng_data.drop(columns=['audio_exists'])"
   ]
  },
  {
   "cell_type": "code",
   "execution_count": 61,
   "id": "88bfc0ec",
   "metadata": {},
   "outputs": [
    {
     "name": "stdout",
     "output_type": "stream",
     "text": [
      "Train: 1266, Validation: 271, Test: 272\n"
     ]
    }
   ],
   "source": [
    "from sklearn.preprocessing import LabelEncoder\n",
    "\n",
    "\n",
    "#splitting data into 7:1.5:1.5 ratio for train, validation and test\n",
    "train_data, temp_data = train_test_split(eng_data, test_size=0.3, random_state=42, stratify=eng_data['intent'])\n",
    "val_data, test_data = train_test_split(temp_data, test_size=0.5, random_state=42, stratify=temp_data['intent'])\n",
    "\n",
    "\n",
    "print(f\"Train: {len(train_data)}, Validation: {len(val_data)}, Test: {len(test_data)}\")\n",
    "\n",
    "\n",
    "# Before creating datasets\n",
    "label_encoder = LabelEncoder()\n",
    "all_intents = pd.concat([train_data, val_data, test_data])['intent']\n",
    "label_encoder.fit(all_intents)\n",
    "\n",
    "train_data['intent'] = label_encoder.transform(train_data['intent'])\n",
    "val_data['intent'] = label_encoder.transform(val_data['intent'])\n",
    "test_data['intent'] = label_encoder.transform(test_data['intent'])\n",
    "\n",
    "# Save class names for later interpretation\n",
    "class_names = label_encoder.classes_\n",
    "\n",
    "\n",
    "output_dir = \"data\"\n",
    "train_data.to_csv(os.path.join(output_dir, 'train.csv'), index=False)\n",
    "val_data.to_csv(os.path.join(output_dir, 'val.csv'), index=False)\n",
    "test_data.to_csv(os.path.join(output_dir, 'test.csv'), index=False)"
   ]
  },
  {
   "cell_type": "code",
   "execution_count": 62,
   "id": "1e2a37ae",
   "metadata": {},
   "outputs": [
    {
     "name": "stdout",
     "output_type": "stream",
     "text": [
      "Classes: ['ABROAD' 'ADDRESS' 'APP_ERROR' 'ATM_LIMIT' 'BALANCE' 'BUSINESS_LOAN'\n",
      " 'CARD_ISSUES' 'CASH_DEPOSIT' 'DIRECT_DEBIT' 'FREEZE' 'HIGH_VALUE_PAYMENT'\n",
      " 'JOINT_ACCOUNT' 'LATEST_TRANSACTIONS' 'PAY_BILL']\n",
      "Number of classes: 14\n"
     ]
    }
   ],
   "source": [
    "print(f'Classes: {class_names}')\n",
    "print(f'Number of classes: {len(class_names)}')"
   ]
  },
  {
   "cell_type": "code",
   "execution_count": 63,
   "id": "c1f0c4b0",
   "metadata": {},
   "outputs": [],
   "source": [
    "#processing the text and audio data for feature extractors\n",
    "\n",
    "def preprocess_audio(file_path, target_sr=16000):\n",
    "    waveform, sample_rate = torchaudio.load(file_path)\n",
    "    if waveform.shape[0] > 1:\n",
    "        waveform = torch.mean(waveform, dim=0, keepdim=True)\n",
    "        \n",
    "    if sample_rate != target_sr: \n",
    "        resampler = torchaudio.transforms.Resample(sample_rate, target_sr)\n",
    "        waveform = resampler(waveform)\n",
    "\n",
    "    mel_spec = torchaudio.transforms.MelSpectrogram(\n",
    "        sample_rate=target_sr,\n",
    "        n_fft=1024,\n",
    "        hop_length=512,\n",
    "        n_mels=80\n",
    "    )(waveform)\n",
    "    \n",
    "    mel_spec = torchaudio.transforms.AmplitudeToDB()(mel_spec)\n",
    "    \n",
    "    mean = mel_spec.mean()\n",
    "    std = mel_spec.std()\n",
    "    mel_spec = (mel_spec - mean) / (std + 1e-9)\n",
    "    \n",
    "    return mel_spec\n",
    "\n",
    "\n",
    "def preprocess_text(text, max_length=128):\n",
    "    encodings = tokenizer(text,truncation=True,padding='max_length',max_length=max_length, return_tensors='pt' )\n",
    "\n",
    "    return encodings"
   ]
  },
  {
   "cell_type": "code",
   "execution_count": 64,
   "id": "dac530bf",
   "metadata": {},
   "outputs": [
    {
     "name": "stdout",
     "output_type": "stream",
     "text": [
      "Audio features shape: torch.Size([16, 1, 80, 1078])\n",
      "Input IDs shape: torch.Size([16, 128])\n",
      "Intent class shape: torch.Size([16])\n"
     ]
    }
   ],
   "source": [
    "#defining the dataset class for MINDS14 dataset\n",
    "\n",
    "class MINDS14Dataset(Dataset):\n",
    "    def __init__(self, metadata):\n",
    "        self.metadata = metadata\n",
    "        self.tokenizer = tokenizer\n",
    "    \n",
    "    def __len__(self):\n",
    "        return len(self.metadata)\n",
    "    \n",
    "    def __getitem__(self, idx):\n",
    "        row = self.metadata.iloc[idx]\n",
    "        \n",
    "        # Process audio\n",
    "        audio_path = row['full_audio_path']\n",
    "        mel_spec = preprocess_audio(audio_path)\n",
    "        \n",
    "        # Process text\n",
    "        text_encodings = preprocess_text(row['text_asr'])\n",
    "        \n",
    "        return {\n",
    "            'audio_features': mel_spec,\n",
    "            'input_ids': text_encodings['input_ids'].squeeze(),\n",
    "            'attention_mask': text_encodings['attention_mask'].squeeze(),\n",
    "            'intent': torch.tensor(row['intent'], dtype=torch.long)\n",
    "        }\n",
    "\n",
    "def collate_fn(batch):\n",
    "    max_audio_len = max([item['audio_features'].shape[2] for item in batch])\n",
    "\n",
    "    audio_features = []\n",
    "    for item in batch:\n",
    "        feat = item['audio_features']\n",
    "\n",
    "        if feat.shape[2] < max_audio_len:\n",
    "            padded = torch.zeros(feat.shape[0], feat.shape[1], max_audio_len)\n",
    "            padded[:, :, :feat.shape[2]] = feat\n",
    "            audio_features.append(padded)\n",
    "        else:\n",
    "            audio_features.append(feat)\n",
    "    \n",
    "    # Stack all tensors\n",
    "    audio_features = torch.stack(audio_features)\n",
    "    input_ids = torch.stack([item['input_ids'] for item in batch])\n",
    "    attention_mask = torch.stack([item['attention_mask'] for item in batch])\n",
    "    intent = torch.stack([item['intent'] for item in batch])\n",
    "    \n",
    "    return {\n",
    "        'audio_features': audio_features,\n",
    "        'input_ids': input_ids,\n",
    "        'attention_mask': attention_mask,\n",
    "        'intent': intent\n",
    "    }\n",
    "\n",
    "# Create datasets\n",
    "train_dataset = MINDS14Dataset(train_data)\n",
    "val_dataset = MINDS14Dataset(val_data)\n",
    "test_dataset = MINDS14Dataset(test_data)\n",
    "\n",
    "# Create data loaders\n",
    "batch_size = 16\n",
    "train_loader = DataLoader(train_dataset, batch_size=batch_size, shuffle=True, collate_fn=collate_fn)\n",
    "val_loader = DataLoader(val_dataset, batch_size=batch_size, shuffle=False, collate_fn=collate_fn)\n",
    "test_loader = DataLoader(test_dataset, batch_size=batch_size, shuffle=False, collate_fn=collate_fn)\n",
    "\n",
    "# Verify dataloader\n",
    "sample_batch = next(iter(train_loader))\n",
    "print(f\"Audio features shape: {sample_batch['audio_features'].shape}\")\n",
    "print(f\"Input IDs shape: {sample_batch['input_ids'].shape}\")\n",
    "print(f\"Intent class shape: {sample_batch['intent'].shape}\")\n"
   ]
  },
  {
   "cell_type": "markdown",
   "id": "53ad77df",
   "metadata": {},
   "source": [
    "### Model Architecture "
   ]
  },
  {
   "cell_type": "markdown",
   "id": "b21f676a",
   "metadata": {},
   "source": [
    "![MODEL_ARCH](model_arch.png) "
   ]
  },
  {
   "cell_type": "code",
   "execution_count": 65,
   "id": "7ce7a579",
   "metadata": {},
   "outputs": [],
   "source": [
    "#textual feature extractor\n",
    "class TextualConvNet(nn.Module):\n",
    "    def __init__(self, input_dim=768, output_dim=900):\n",
    "        super(TextualConvNet, self).__init__()\n",
    "        \n",
    "        # Word embedding layer (uses BERT tokenizer vocabulary)\n",
    "        self.embedding = nn.Embedding(tokenizer.vocab_size, input_dim)\n",
    "        \n",
    "        self.conv1 = nn.Conv1d(input_dim, 300, kernel_size=1)\n",
    "        self.conv2 = nn.Conv1d(input_dim, 300, kernel_size=2)\n",
    "        self.conv3 = nn.Conv1d(input_dim, 300, kernel_size=3)\n",
    "        \n",
    "    \n",
    "        self.pool = nn.AdaptiveMaxPool1d(1)\n",
    "        self.fc = nn.Linear(900, output_dim)\n",
    "        \n",
    "    def forward(self, input_ids, attention_mask):\n",
    "      \n",
    "        x = self.embedding(input_ids)  # [batch_size, seq_len, embed_dim]\n",
    "        x = x * attention_mask.unsqueeze(-1)\n",
    "\n",
    "        x = x.transpose(1, 2)\n",
    "   \n",
    "        x1 = F.relu(self.conv1(x))\n",
    "        x2 = F.relu(self.conv2(x))\n",
    "        x3 = F.relu(self.conv3(x))\n",
    "        \n",
    "        x1 = self.pool(x1).squeeze(-1)  # [batch_size, 300]\n",
    "        x2 = self.pool(x2).squeeze(-1)  # [batch_size, 300]\n",
    "        x3 = self.pool(x3).squeeze(-1)  # [batch_size, 300]\n",
    " \n",
    "        x = torch.cat([x1, x2, x3], dim=1)  # [batch_size, 900]\n",
    "        \n",
    "        x = self.fc(x)  # [batch_size, output_dim]\n",
    "        \n",
    "        return x\n",
    "    \n",
    "    \n",
    "    \n",
    "#acoustic feature extractor\n",
    "class AcousticConvNet(nn.Module):\n",
    "    def __init__(self, input_channels=1, output_dim=1024):\n",
    "        super(AcousticConvNet, self).__init__()\n",
    "        \n",
    "        self.conv1 = nn.Conv2d(input_channels, 64, kernel_size=3, padding=1)\n",
    "        self.pool1 = nn.MaxPool2d(kernel_size=2)\n",
    "        \n",
    "        self.conv2 = nn.Conv2d(64, 128, kernel_size=3, padding=1)\n",
    "        self.pool2 = nn.MaxPool2d(kernel_size=2)\n",
    "        \n",
    "        self.conv3 = nn.Conv2d(128, 256, kernel_size=3, padding=1)\n",
    "        self.pool3 = nn.MaxPool2d(kernel_size=2)\n",
    "        \n",
    "        # Adaptive pooling to get fixed output size (4x4) before FC layer\n",
    "        self.adaptive_pool = nn.AdaptiveAvgPool2d((4, 4))\n",
    "        self.fc = nn.Linear(256 * 4 * 4, output_dim)\n",
    "        \n",
    "    def forward(self, x):\n",
    "        # Add channel dimension if not present\n",
    "        if x.dim() == 3:\n",
    "            x = x.unsqueeze(1)\n",
    "        \n",
    "        x = F.relu(self.conv1(x))\n",
    "        x = self.pool1(x)\n",
    "        \n",
    "        x = F.relu(self.conv2(x))\n",
    "        x = self.pool2(x)\n",
    "        \n",
    "        x = F.relu(self.conv3(x))\n",
    "        x = self.pool3(x)\n",
    "        \n",
    "        x = self.adaptive_pool(x)\n",
    "        \n",
    "        x = x.reshape(x.size(0), -1)\n",
    "        x = self.fc(x)\n",
    "        \n",
    "        return x\n",
    "\n",
    "class MultimodalIntentClassifier(nn.Module):\n",
    "    def __init__(self, num_classes=14):\n",
    "        super(MultimodalIntentClassifier, self).__init__()\n",
    "        \n",
    "        # Feature extraction networks\n",
    "        self.textual_net = TextualConvNet(output_dim=900)\n",
    "        self.acoustic_net = AcousticConvNet(output_dim=1024)\n",
    "        \n",
    "        # Feature fusion layers \n",
    "        self.fusion_fc1 = nn.Linear(900 + 1024, 512)\n",
    "        self.fusion_fc2 = nn.Linear(512, 256)\n",
    "        \n",
    "        # Decision making layer (softmax)\n",
    "        self.classifier = nn.Linear(256, num_classes)\n",
    "        \n",
    "    def forward(self, audio_features, input_ids, attention_mask):\n",
    "        text_features = self.textual_net(input_ids, attention_mask)\n",
    "        audio_features = self.acoustic_net(audio_features)\n",
    "        combined = torch.cat([text_features, audio_features], dim=1) #feature fusion\n",
    "        x = F.relu(self.fusion_fc1(combined))\n",
    "        x = F.relu(self.fusion_fc2(x))\n",
    "        \n",
    "        # Classification through softmax layer\n",
    "        logits = self.classifier(x)\n",
    "        \n",
    "        return logits\n",
    "\n"
   ]
  },
  {
   "cell_type": "code",
   "execution_count": 66,
   "id": "dba2d633",
   "metadata": {},
   "outputs": [
    {
     "name": "stdout",
     "output_type": "stream",
     "text": [
      "Using device: cuda\n",
      "MultimodalIntentClassifier(\n",
      "  (textual_net): TextualConvNet(\n",
      "    (embedding): Embedding(30522, 768)\n",
      "    (conv1): Conv1d(768, 300, kernel_size=(1,), stride=(1,))\n",
      "    (conv2): Conv1d(768, 300, kernel_size=(2,), stride=(1,))\n",
      "    (conv3): Conv1d(768, 300, kernel_size=(3,), stride=(1,))\n",
      "    (pool): AdaptiveMaxPool1d(output_size=1)\n",
      "    (fc): Linear(in_features=900, out_features=900, bias=True)\n",
      "  )\n",
      "  (acoustic_net): AcousticConvNet(\n",
      "    (conv1): Conv2d(1, 64, kernel_size=(3, 3), stride=(1, 1), padding=(1, 1))\n",
      "    (pool1): MaxPool2d(kernel_size=2, stride=2, padding=0, dilation=1, ceil_mode=False)\n",
      "    (conv2): Conv2d(64, 128, kernel_size=(3, 3), stride=(1, 1), padding=(1, 1))\n",
      "    (pool2): MaxPool2d(kernel_size=2, stride=2, padding=0, dilation=1, ceil_mode=False)\n",
      "    (conv3): Conv2d(128, 256, kernel_size=(3, 3), stride=(1, 1), padding=(1, 1))\n",
      "    (pool3): MaxPool2d(kernel_size=2, stride=2, padding=0, dilation=1, ceil_mode=False)\n",
      "    (adaptive_pool): AdaptiveAvgPool2d(output_size=(4, 4))\n",
      "    (fc): Linear(in_features=4096, out_features=1024, bias=True)\n",
      "  )\n",
      "  (fusion_fc1): Linear(in_features=1924, out_features=512, bias=True)\n",
      "  (fusion_fc2): Linear(in_features=512, out_features=256, bias=True)\n",
      "  (classifier): Linear(in_features=256, out_features=14, bias=True)\n",
      ")\n"
     ]
    }
   ],
   "source": [
    "device = torch.device(\"cuda\" if torch.cuda.is_available() else \"cpu\")\n",
    "print(f\"Using device: {device}\")\n",
    "\n",
    "model = MultimodalIntentClassifier().to(device)\n",
    "print(model)"
   ]
  },
  {
   "cell_type": "code",
   "execution_count": 67,
   "id": "8da4b471",
   "metadata": {},
   "outputs": [],
   "source": [
    "#training_paremeters\n",
    "num_epochs = 10\n",
    "learning_rate = 0.0001\n",
    "criterion = nn.CrossEntropyLoss()\n",
    "optimizer = optim.Adam(model.parameters(), lr=learning_rate)"
   ]
  },
  {
   "cell_type": "code",
   "execution_count": 68,
   "id": "e5694a17",
   "metadata": {},
   "outputs": [
    {
     "name": "stderr",
     "output_type": "stream",
     "text": [
      "Epoch 1/10 [Train]: 100%|██████████| 80/80 [00:30<00:00,  2.61it/s]\n",
      "Epoch 1/10 [Val]: 100%|██████████| 17/17 [00:02<00:00,  6.82it/s]\n"
     ]
    },
    {
     "name": "stdout",
     "output_type": "stream",
     "text": [
      "\n",
      "Epoch 1/10:\n",
      "  Train Loss: 2.1718, Train Acc: 41.63%\n",
      "  Val Loss: 1.0116, Val Acc: 79.34%\n",
      "  New best model saved! Validation accuracy: 79.34%\n"
     ]
    },
    {
     "name": "stderr",
     "output_type": "stream",
     "text": [
      "Epoch 2/10 [Train]: 100%|██████████| 80/80 [00:23<00:00,  3.38it/s]\n",
      "Epoch 2/10 [Val]: 100%|██████████| 17/17 [00:02<00:00,  5.78it/s]\n"
     ]
    },
    {
     "name": "stdout",
     "output_type": "stream",
     "text": [
      "\n",
      "Epoch 2/10:\n",
      "  Train Loss: 0.5854, Train Acc: 84.44%\n",
      "  Val Loss: 0.3052, Val Acc: 90.77%\n",
      "  New best model saved! Validation accuracy: 90.77%\n"
     ]
    },
    {
     "name": "stderr",
     "output_type": "stream",
     "text": [
      "Epoch 3/10 [Train]: 100%|██████████| 80/80 [00:24<00:00,  3.25it/s]\n",
      "Epoch 3/10 [Val]: 100%|██████████| 17/17 [00:02<00:00,  5.98it/s]\n"
     ]
    },
    {
     "name": "stdout",
     "output_type": "stream",
     "text": [
      "\n",
      "Epoch 3/10:\n",
      "  Train Loss: 0.1864, Train Acc: 94.87%\n",
      "  Val Loss: 0.2015, Val Acc: 93.36%\n",
      "  New best model saved! Validation accuracy: 93.36%\n"
     ]
    },
    {
     "name": "stderr",
     "output_type": "stream",
     "text": [
      "Epoch 4/10 [Train]: 100%|██████████| 80/80 [00:24<00:00,  3.29it/s]\n",
      "Epoch 4/10 [Val]: 100%|██████████| 17/17 [00:02<00:00,  6.01it/s]\n"
     ]
    },
    {
     "name": "stdout",
     "output_type": "stream",
     "text": [
      "\n",
      "Epoch 4/10:\n",
      "  Train Loss: 0.0755, Train Acc: 99.13%\n",
      "  Val Loss: 0.1792, Val Acc: 93.73%\n",
      "  New best model saved! Validation accuracy: 93.73%\n"
     ]
    },
    {
     "name": "stderr",
     "output_type": "stream",
     "text": [
      "Epoch 5/10 [Train]: 100%|██████████| 80/80 [00:24<00:00,  3.28it/s]\n",
      "Epoch 5/10 [Val]: 100%|██████████| 17/17 [00:02<00:00,  5.96it/s]\n"
     ]
    },
    {
     "name": "stdout",
     "output_type": "stream",
     "text": [
      "\n",
      "Epoch 5/10:\n",
      "  Train Loss: 0.0394, Train Acc: 99.53%\n",
      "  Val Loss: 0.1712, Val Acc: 94.83%\n",
      "  New best model saved! Validation accuracy: 94.83%\n"
     ]
    },
    {
     "name": "stderr",
     "output_type": "stream",
     "text": [
      "Epoch 6/10 [Train]: 100%|██████████| 80/80 [00:22<00:00,  3.58it/s]\n",
      "Epoch 6/10 [Val]: 100%|██████████| 17/17 [00:03<00:00,  5.50it/s]\n"
     ]
    },
    {
     "name": "stdout",
     "output_type": "stream",
     "text": [
      "\n",
      "Epoch 6/10:\n",
      "  Train Loss: 0.0152, Train Acc: 99.84%\n",
      "  Val Loss: 0.1441, Val Acc: 95.94%\n",
      "  New best model saved! Validation accuracy: 95.94%\n"
     ]
    },
    {
     "name": "stderr",
     "output_type": "stream",
     "text": [
      "Epoch 7/10 [Train]: 100%|██████████| 80/80 [00:25<00:00,  3.20it/s]\n",
      "Epoch 7/10 [Val]: 100%|██████████| 17/17 [00:02<00:00,  5.95it/s]\n"
     ]
    },
    {
     "name": "stdout",
     "output_type": "stream",
     "text": [
      "\n",
      "Epoch 7/10:\n",
      "  Train Loss: 0.0083, Train Acc: 99.92%\n",
      "  Val Loss: 0.1432, Val Acc: 94.83%\n"
     ]
    },
    {
     "name": "stderr",
     "output_type": "stream",
     "text": [
      "Epoch 8/10 [Train]: 100%|██████████| 80/80 [00:23<00:00,  3.36it/s]\n",
      "Epoch 8/10 [Val]: 100%|██████████| 17/17 [00:02<00:00,  6.98it/s]\n"
     ]
    },
    {
     "name": "stdout",
     "output_type": "stream",
     "text": [
      "\n",
      "Epoch 8/10:\n",
      "  Train Loss: 0.0048, Train Acc: 99.92%\n",
      "  Val Loss: 0.1416, Val Acc: 95.94%\n"
     ]
    },
    {
     "name": "stderr",
     "output_type": "stream",
     "text": [
      "Epoch 9/10 [Train]: 100%|██████████| 80/80 [00:22<00:00,  3.54it/s]\n",
      "Epoch 9/10 [Val]: 100%|██████████| 17/17 [00:02<00:00,  6.34it/s]\n"
     ]
    },
    {
     "name": "stdout",
     "output_type": "stream",
     "text": [
      "\n",
      "Epoch 9/10:\n",
      "  Train Loss: 0.0026, Train Acc: 100.00%\n",
      "  Val Loss: 0.1387, Val Acc: 95.57%\n"
     ]
    },
    {
     "name": "stderr",
     "output_type": "stream",
     "text": [
      "Epoch 10/10 [Train]: 100%|██████████| 80/80 [00:22<00:00,  3.60it/s]\n",
      "Epoch 10/10 [Val]: 100%|██████████| 17/17 [00:02<00:00,  7.13it/s]"
     ]
    },
    {
     "name": "stdout",
     "output_type": "stream",
     "text": [
      "\n",
      "Epoch 10/10:\n",
      "  Train Loss: 0.0019, Train Acc: 100.00%\n",
      "  Val Loss: 0.1394, Val Acc: 95.94%\n"
     ]
    },
    {
     "name": "stderr",
     "output_type": "stream",
     "text": [
      "\n"
     ]
    }
   ],
   "source": [
    "best_val_acc = 0.0\n",
    "history = {'train_loss': [], 'train_acc': [], 'val_loss': [], 'val_acc': []}\n",
    "\n",
    "for epoch in range(num_epochs):\n",
    "    model.train()\n",
    "    train_loss = 0.0\n",
    "    train_correct = 0\n",
    "    train_total = 0\n",
    "    \n",
    "    for batch in tqdm(train_loader, desc=f\"Epoch {epoch+1}/{num_epochs} [Train]\"):\n",
    "        # Move to device\n",
    "        audio_features = batch['audio_features'].to(device)\n",
    "        input_ids = batch['input_ids'].to(device)\n",
    "        attention_mask = batch['attention_mask'].to(device)\n",
    "        labels = batch['intent'].to(device)\n",
    "        \n",
    "        # Forward pass\n",
    "        optimizer.zero_grad()\n",
    "        outputs = model(audio_features, input_ids, attention_mask)\n",
    "        loss = criterion(outputs, labels)\n",
    "        \n",
    "        # Backward pass\n",
    "        loss.backward()\n",
    "        optimizer.step()\n",
    "        \n",
    "        # compute statistics\n",
    "        train_loss += loss.item()\n",
    "        _, predicted = torch.max(outputs, 1)\n",
    "        train_total += labels.size(0)\n",
    "        train_correct += (predicted == labels).sum().item()\n",
    "    \n",
    "    train_loss /= len(train_loader)\n",
    "    train_acc = 100 * train_correct / train_total\n",
    "    history['train_loss'].append(train_loss)\n",
    "    history['train_acc'].append(train_acc)\n",
    "    \n",
    "    # Validation phase\n",
    "    model.eval()\n",
    "    val_loss = 0.0\n",
    "    val_correct = 0\n",
    "    val_total = 0\n",
    "    all_preds = []\n",
    "    all_labels = []\n",
    "    \n",
    "    with torch.no_grad():\n",
    "        for batch in tqdm(val_loader, desc=f\"Epoch {epoch+1}/{num_epochs} [Val]\"):\n",
    "            # Move to device\n",
    "            audio_features = batch['audio_features'].to(device)\n",
    "            input_ids = batch['input_ids'].to(device)\n",
    "            attention_mask = batch['attention_mask'].to(device)\n",
    "            labels = batch['intent'].to(device)\n",
    "            \n",
    "            # Forward pass\n",
    "            outputs = model(audio_features, input_ids, attention_mask)\n",
    "            loss = criterion(outputs, labels)\n",
    "            \n",
    "            # Statistics\n",
    "            val_loss += loss.item()\n",
    "            _, predicted = torch.max(outputs, 1)\n",
    "            val_total += labels.size(0)\n",
    "            val_correct += (predicted == labels).sum().item()\n",
    "            \n",
    "            # Store predictions for confusion matrix\n",
    "            all_preds.extend(predicted.cpu().numpy())\n",
    "            all_labels.extend(labels.cpu().numpy())\n",
    "    \n",
    "    val_loss /= len(val_loader)\n",
    "    val_acc = 100 * val_correct / val_total\n",
    "    history['val_loss'].append(val_loss)\n",
    "    history['val_acc'].append(val_acc)\n",
    "    \n",
    "    # Print epoch results\n",
    "    print(f\"\\nEpoch {epoch+1}/{num_epochs}:\")\n",
    "    print(f\"  Train Loss: {train_loss:.4f}, Train Acc: {train_acc:.2f}%\")\n",
    "    print(f\"  Val Loss: {val_loss:.4f}, Val Acc: {val_acc:.2f}%\")\n",
    "    \n",
    "    # Save best model\n",
    "    if val_acc > best_val_acc:\n",
    "        best_val_acc = val_acc\n",
    "        torch.save(model.state_dict(), 'best_model.pth')\n",
    "        print(f\"  New best model saved! Validation accuracy: {val_acc:.2f}%\")\n",
    "\n"
   ]
  },
  {
   "cell_type": "code",
   "execution_count": 69,
   "id": "f0ad4167",
   "metadata": {},
   "outputs": [
    {
     "name": "stdout",
     "output_type": "stream",
     "text": [
      "\n",
      "Evaluating on test set...\n"
     ]
    },
    {
     "name": "stderr",
     "output_type": "stream",
     "text": [
      "Testing: 100%|██████████| 17/17 [00:02<00:00,  7.72it/s]"
     ]
    },
    {
     "name": "stdout",
     "output_type": "stream",
     "text": [
      "Test Loss: 0.2107, Test Accuracy: 95.59%\n"
     ]
    },
    {
     "name": "stderr",
     "output_type": "stream",
     "text": [
      "\n"
     ]
    }
   ],
   "source": [
    "# Evaluate on test set\n",
    "print(\"\\nEvaluating on test set...\")\n",
    "model.load_state_dict(torch.load('best_model.pth'))\n",
    "model.eval()\n",
    "\n",
    "test_loss = 0.0\n",
    "test_correct = 0\n",
    "test_total = 0\n",
    "test_preds = []\n",
    "test_labels = []\n",
    "\n",
    "with torch.no_grad():\n",
    "    for batch in tqdm(test_loader, desc=\"Testing\"):\n",
    "        # Move to device\n",
    "        audio_features = batch['audio_features'].to(device)\n",
    "        input_ids = batch['input_ids'].to(device)\n",
    "        attention_mask = batch['attention_mask'].to(device)\n",
    "        labels = batch['intent'].to(device)\n",
    "        \n",
    "        # Forward pass\n",
    "        outputs = model(audio_features, input_ids, attention_mask)\n",
    "        loss = criterion(outputs, labels)\n",
    "        \n",
    "        # Statistics\n",
    "        test_loss += loss.item()\n",
    "        _, predicted = torch.max(outputs, 1)\n",
    "        test_total += labels.size(0)\n",
    "        test_correct += (predicted == labels).sum().item()\n",
    "        \n",
    "        test_preds.extend(predicted.cpu().numpy())\n",
    "        test_labels.extend(labels.cpu().numpy())\n",
    "\n",
    "test_loss /= len(test_loader)\n",
    "test_acc = 100 * test_correct / test_total\n",
    "print(f\"Test Loss: {test_loss:.4f}, Test Accuracy: {test_acc:.2f}%\")"
   ]
  },
  {
   "cell_type": "code",
   "execution_count": 70,
   "id": "b259af01",
   "metadata": {},
   "outputs": [
    {
     "name": "stdout",
     "output_type": "stream",
     "text": [
      "                     precision    recall  f1-score   support\n",
      "\n",
      "             ABROAD       0.94      0.94      0.94        17\n",
      "            ADDRESS       0.95      1.00      0.97        19\n",
      "          APP_ERROR       0.82      0.95      0.88        19\n",
      "          ATM_LIMIT       0.95      1.00      0.98        21\n",
      "            BALANCE       1.00      0.89      0.94        19\n",
      "      BUSINESS_LOAN       1.00      1.00      1.00        20\n",
      "        CARD_ISSUES       0.95      1.00      0.98        21\n",
      "       CASH_DEPOSIT       0.95      0.90      0.93        21\n",
      "       DIRECT_DEBIT       1.00      0.95      0.97        19\n",
      "             FREEZE       1.00      0.89      0.94        19\n",
      " HIGH_VALUE_PAYMENT       0.95      1.00      0.97        19\n",
      "      JOINT_ACCOUNT       1.00      0.95      0.97        19\n",
      "LATEST_TRANSACTIONS       0.90      0.95      0.93        20\n",
      "           PAY_BILL       1.00      0.95      0.97        19\n",
      "\n",
      "           accuracy                           0.96       272\n",
      "          macro avg       0.96      0.96      0.96       272\n",
      "       weighted avg       0.96      0.96      0.96       272\n",
      "\n"
     ]
    }
   ],
   "source": [
    "print(classification_report(test_labels, test_preds, target_names=class_names))\n"
   ]
  },
  {
   "cell_type": "code",
   "execution_count": 71,
   "id": "3a976a4a",
   "metadata": {},
   "outputs": [
    {
     "data": {
      "text/plain": [
       "Text(95.72222222222221, 0.5, 'True Label')"
      ]
     },
     "execution_count": 71,
     "metadata": {},
     "output_type": "execute_result"
    },
    {
     "data": {
      "image/png": "[encoded data removed]",
      "text/plain": [
       "<Figure size 1200x500 with 2 Axes>"
      ]
     },
     "metadata": {},
     "output_type": "display_data"
    },
    {
     "data": {
      "image/png": "[encoded data removed]",
      "text/plain": [
       "<Figure size 1000x800 with 2 Axes>"
      ]
     },
     "metadata": {},
     "output_type": "display_data"
    }
   ],
   "source": [
    "# Visualize learning curves\n",
    "plt.figure(figsize=(12, 5))\n",
    "plt.subplot(1, 2, 1)\n",
    "plt.plot(history['train_loss'], label='Train Loss')\n",
    "plt.plot(history['val_loss'], label='Validation Loss')\n",
    "plt.title('Loss Curves')\n",
    "plt.xlabel('Epoch')\n",
    "plt.ylabel('Loss')\n",
    "plt.legend()\n",
    "\n",
    "plt.subplot(1, 2, 2)\n",
    "plt.plot(history['train_acc'], label='Train Accuracy')\n",
    "plt.plot(history['val_acc'], label='Validation Accuracy')\n",
    "plt.title('Accuracy Curves')\n",
    "plt.xlabel('Epoch')\n",
    "plt.ylabel('Accuracy (%)')\n",
    "plt.legend()\n",
    "\n",
    "\n",
    "# confusion matrix\n",
    "plt.figure(figsize=(10, 8))\n",
    "cm = confusion_matrix(test_labels, test_preds)\n",
    "sns.heatmap(cm, annot=True, fmt='d', cmap='Blues')\n",
    "plt.title('Confusion Matrix (Test Set)')\n",
    "plt.xlabel('Predicted Label')\n",
    "plt.ylabel('True Label')\n",
    "\n",
    "\n"
   ]
  }
 ],
 "metadata": {
  "kernelspec": {
   "display_name": ".venv",
   "language": "python",
   "name": "python3"
  },
  "language_info": {
   "codemirror_mode": {
    "name": "ipython",
    "version": 3
   },
   "file_extension": ".py",
   "mimetype": "text/x-python",
   "name": "python",
   "nbconvert_exporter": "python",
   "pygments_lexer": "ipython3",
   "version": "3.10.11"
  }
 },
 "nbformat": 4,
 "nbformat_minor": 5
}
